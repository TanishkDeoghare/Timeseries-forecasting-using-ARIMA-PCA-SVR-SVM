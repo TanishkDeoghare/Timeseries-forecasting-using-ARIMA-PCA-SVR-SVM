{
 "cells": [
  {
   "cell_type": "markdown",
   "metadata": {},
   "source": [
    "This model aims to predict the stock price of Coca Cola using economic timeseries variables and Support vector regression"
   ]
  },
  {
   "cell_type": "markdown",
   "metadata": {},
   "source": [
    "Data Courtest: Yahoo FInance and FRED (Federal Reserve Bank of St. Louis)"
   ]
  },
  {
   "cell_type": "markdown",
   "metadata": {},
   "source": [
    "Using the yfinance library to retrieve historical stock data for Coca-Cola (KO) and then resampling it to a quarterly frequency."
   ]
  },
  {
   "cell_type": "code",
   "execution_count": 3,
   "metadata": {},
   "outputs": [
    {
     "data": {
      "text/html": [
       "<div>\n",
       "<style scoped>\n",
       "    .dataframe tbody tr th:only-of-type {\n",
       "        vertical-align: middle;\n",
       "    }\n",
       "\n",
       "    .dataframe tbody tr th {\n",
       "        vertical-align: top;\n",
       "    }\n",
       "\n",
       "    .dataframe thead th {\n",
       "        text-align: right;\n",
       "    }\n",
       "</style>\n",
       "<table border=\"1\" class=\"dataframe\">\n",
       "  <thead>\n",
       "    <tr style=\"text-align: right;\">\n",
       "      <th></th>\n",
       "      <th>Date</th>\n",
       "      <th>Open</th>\n",
       "      <th>High</th>\n",
       "      <th>Low</th>\n",
       "      <th>Close</th>\n",
       "      <th>Volume</th>\n",
       "      <th>Dividends</th>\n",
       "      <th>Stock Splits</th>\n",
       "    </tr>\n",
       "  </thead>\n",
       "  <tbody>\n",
       "    <tr>\n",
       "      <th>0</th>\n",
       "      <td>2012-12-31 00:00:00-05:00</td>\n",
       "      <td>26.386014</td>\n",
       "      <td>27.862603</td>\n",
       "      <td>26.050749</td>\n",
       "      <td>27.620071</td>\n",
       "      <td>627696600</td>\n",
       "      <td>0.00</td>\n",
       "      <td>0.0</td>\n",
       "    </tr>\n",
       "    <tr>\n",
       "      <th>1</th>\n",
       "      <td>2013-03-31 00:00:00-04:00</td>\n",
       "      <td>27.455999</td>\n",
       "      <td>30.979839</td>\n",
       "      <td>27.427466</td>\n",
       "      <td>28.525991</td>\n",
       "      <td>894424000</td>\n",
       "      <td>0.28</td>\n",
       "      <td>0.0</td>\n",
       "    </tr>\n",
       "    <tr>\n",
       "      <th>2</th>\n",
       "      <td>2013-06-30 00:00:00-04:00</td>\n",
       "      <td>28.703747</td>\n",
       "      <td>29.982662</td>\n",
       "      <td>27.158989</td>\n",
       "      <td>27.432016</td>\n",
       "      <td>863530400</td>\n",
       "      <td>0.28</td>\n",
       "      <td>0.0</td>\n",
       "    </tr>\n",
       "    <tr>\n",
       "      <th>3</th>\n",
       "      <td>2013-09-30 00:00:00-04:00</td>\n",
       "      <td>27.686743</td>\n",
       "      <td>29.574969</td>\n",
       "      <td>26.644964</td>\n",
       "      <td>29.075781</td>\n",
       "      <td>947889200</td>\n",
       "      <td>0.56</td>\n",
       "      <td>0.0</td>\n",
       "    </tr>\n",
       "    <tr>\n",
       "      <th>4</th>\n",
       "      <td>2013-12-31 00:00:00-05:00</td>\n",
       "      <td>29.426354</td>\n",
       "      <td>30.372988</td>\n",
       "      <td>27.070778</td>\n",
       "      <td>28.032089</td>\n",
       "      <td>975777300</td>\n",
       "      <td>0.00</td>\n",
       "      <td>0.0</td>\n",
       "    </tr>\n",
       "  </tbody>\n",
       "</table>\n",
       "</div>"
      ],
      "text/plain": [
       "                       Date       Open       High        Low      Close  \\\n",
       "0 2012-12-31 00:00:00-05:00  26.386014  27.862603  26.050749  27.620071   \n",
       "1 2013-03-31 00:00:00-04:00  27.455999  30.979839  27.427466  28.525991   \n",
       "2 2013-06-30 00:00:00-04:00  28.703747  29.982662  27.158989  27.432016   \n",
       "3 2013-09-30 00:00:00-04:00  27.686743  29.574969  26.644964  29.075781   \n",
       "4 2013-12-31 00:00:00-05:00  29.426354  30.372988  27.070778  28.032089   \n",
       "\n",
       "      Volume  Dividends  Stock Splits  \n",
       "0  627696600       0.00           0.0  \n",
       "1  894424000       0.28           0.0  \n",
       "2  863530400       0.28           0.0  \n",
       "3  947889200       0.56           0.0  \n",
       "4  975777300       0.00           0.0  "
      ]
     },
     "execution_count": 3,
     "metadata": {},
     "output_type": "execute_result"
    }
   ],
   "source": [
    "import yfinance as yf\n",
    "from datetime import datetime\n",
    "\n",
    "# Define the stock symbol (KO for Coca-Cola)\n",
    "symbol = \"KO\"\n",
    "\n",
    "# Create a Ticker object for Coca-Cola\n",
    "ko = yf.Ticker(symbol)\n",
    "\n",
    "# Define custom start date and end date\n",
    "start_date = '2012-12-31'\n",
    "end_date = datetime.today()\n",
    "\n",
    "# Get daily data for the specified date range\n",
    "data = ko.history(start=start_date, end=end_date, interval=\"3mo\")\n",
    "\n",
    "# Resample to quarterly frequency (end of quarter)\n",
    "quarterly_data = data.resample('Q').last()\n",
    "\n",
    "# Reset the index to make the 'Date' column a regular column\n",
    "quarterly_data = quarterly_data.reset_index()\n",
    "\n",
    "# Print the DataFrame with the 'Date' column\n",
    "quarterly_data.head()\n"
   ]
  },
  {
   "cell_type": "markdown",
   "metadata": {},
   "source": [
    " it will display the first few rows of the quarterly_data DataFrame containing the quarterly stock data for Coca-Cola."
   ]
  },
  {
   "cell_type": "code",
   "execution_count": 4,
   "metadata": {},
   "outputs": [
    {
     "data": {
      "text/html": [
       "<div>\n",
       "<style scoped>\n",
       "    .dataframe tbody tr th:only-of-type {\n",
       "        vertical-align: middle;\n",
       "    }\n",
       "\n",
       "    .dataframe tbody tr th {\n",
       "        vertical-align: top;\n",
       "    }\n",
       "\n",
       "    .dataframe thead th {\n",
       "        text-align: right;\n",
       "    }\n",
       "</style>\n",
       "<table border=\"1\" class=\"dataframe\">\n",
       "  <thead>\n",
       "    <tr style=\"text-align: right;\">\n",
       "      <th></th>\n",
       "      <th>Date</th>\n",
       "      <th>Open</th>\n",
       "      <th>High</th>\n",
       "      <th>Low</th>\n",
       "      <th>Close</th>\n",
       "      <th>Volume</th>\n",
       "      <th>Dividends</th>\n",
       "      <th>Stock Splits</th>\n",
       "    </tr>\n",
       "  </thead>\n",
       "  <tbody>\n",
       "    <tr>\n",
       "      <th>0</th>\n",
       "      <td>2012-12-31 00:00:00-05:00</td>\n",
       "      <td>26.386014</td>\n",
       "      <td>27.862603</td>\n",
       "      <td>26.050749</td>\n",
       "      <td>27.620071</td>\n",
       "      <td>627696600</td>\n",
       "      <td>0.00</td>\n",
       "      <td>0.0</td>\n",
       "    </tr>\n",
       "    <tr>\n",
       "      <th>1</th>\n",
       "      <td>2013-03-31 00:00:00-04:00</td>\n",
       "      <td>27.455999</td>\n",
       "      <td>30.979839</td>\n",
       "      <td>27.427466</td>\n",
       "      <td>28.525991</td>\n",
       "      <td>894424000</td>\n",
       "      <td>0.28</td>\n",
       "      <td>0.0</td>\n",
       "    </tr>\n",
       "    <tr>\n",
       "      <th>2</th>\n",
       "      <td>2013-06-30 00:00:00-04:00</td>\n",
       "      <td>28.703747</td>\n",
       "      <td>29.982662</td>\n",
       "      <td>27.158989</td>\n",
       "      <td>27.432016</td>\n",
       "      <td>863530400</td>\n",
       "      <td>0.28</td>\n",
       "      <td>0.0</td>\n",
       "    </tr>\n",
       "    <tr>\n",
       "      <th>3</th>\n",
       "      <td>2013-09-30 00:00:00-04:00</td>\n",
       "      <td>27.686743</td>\n",
       "      <td>29.574969</td>\n",
       "      <td>26.644964</td>\n",
       "      <td>29.075781</td>\n",
       "      <td>947889200</td>\n",
       "      <td>0.56</td>\n",
       "      <td>0.0</td>\n",
       "    </tr>\n",
       "    <tr>\n",
       "      <th>4</th>\n",
       "      <td>2013-12-31 00:00:00-05:00</td>\n",
       "      <td>29.426354</td>\n",
       "      <td>30.372988</td>\n",
       "      <td>27.070778</td>\n",
       "      <td>28.032089</td>\n",
       "      <td>975777300</td>\n",
       "      <td>0.00</td>\n",
       "      <td>0.0</td>\n",
       "    </tr>\n",
       "  </tbody>\n",
       "</table>\n",
       "</div>"
      ],
      "text/plain": [
       "                       Date       Open       High        Low      Close  \\\n",
       "0 2012-12-31 00:00:00-05:00  26.386014  27.862603  26.050749  27.620071   \n",
       "1 2013-03-31 00:00:00-04:00  27.455999  30.979839  27.427466  28.525991   \n",
       "2 2013-06-30 00:00:00-04:00  28.703747  29.982662  27.158989  27.432016   \n",
       "3 2013-09-30 00:00:00-04:00  27.686743  29.574969  26.644964  29.075781   \n",
       "4 2013-12-31 00:00:00-05:00  29.426354  30.372988  27.070778  28.032089   \n",
       "\n",
       "      Volume  Dividends  Stock Splits  \n",
       "0  627696600       0.00           0.0  \n",
       "1  894424000       0.28           0.0  \n",
       "2  863530400       0.28           0.0  \n",
       "3  947889200       0.56           0.0  \n",
       "4  975777300       0.00           0.0  "
      ]
     },
     "execution_count": 4,
     "metadata": {},
     "output_type": "execute_result"
    }
   ],
   "source": [
    "quarterly_data.head()"
   ]
  },
  {
   "cell_type": "markdown",
   "metadata": {},
   "source": [
    "Using the to_csv method, you're exporting the quarterly_data DataFrame to a CSV file named coca_cola_time_series_data.csv"
   ]
  },
  {
   "cell_type": "code",
   "execution_count": 5,
   "metadata": {},
   "outputs": [],
   "source": [
    "# export data to csv file\n",
    "quarterly_data.to_csv('coca_cola_time_series_data.csv')"
   ]
  },
  {
   "cell_type": "markdown",
   "metadata": {},
   "source": [
    "This code snippet fetches data for Consumer Spending from the FRED API and stores it in the consumer_spending DataFrame. If you run this code, you'll see the first few rows of the data."
   ]
  },
  {
   "cell_type": "code",
   "execution_count": 6,
   "metadata": {},
   "outputs": [
    {
     "data": {
      "text/html": [
       "<div>\n",
       "<style scoped>\n",
       "    .dataframe tbody tr th:only-of-type {\n",
       "        vertical-align: middle;\n",
       "    }\n",
       "\n",
       "    .dataframe tbody tr th {\n",
       "        vertical-align: top;\n",
       "    }\n",
       "\n",
       "    .dataframe thead th {\n",
       "        text-align: right;\n",
       "    }\n",
       "</style>\n",
       "<table border=\"1\" class=\"dataframe\">\n",
       "  <thead>\n",
       "    <tr style=\"text-align: right;\">\n",
       "      <th></th>\n",
       "      <th>PCE</th>\n",
       "    </tr>\n",
       "    <tr>\n",
       "      <th>DATE</th>\n",
       "      <th></th>\n",
       "    </tr>\n",
       "  </thead>\n",
       "  <tbody>\n",
       "    <tr>\n",
       "      <th>2012-10-01</th>\n",
       "      <td>11137.4</td>\n",
       "    </tr>\n",
       "    <tr>\n",
       "      <th>2012-11-01</th>\n",
       "      <td>11178.4</td>\n",
       "    </tr>\n",
       "    <tr>\n",
       "      <th>2012-12-01</th>\n",
       "      <td>11181.2</td>\n",
       "    </tr>\n",
       "    <tr>\n",
       "      <th>2013-01-01</th>\n",
       "      <td>11252.4</td>\n",
       "    </tr>\n",
       "    <tr>\n",
       "      <th>2013-02-01</th>\n",
       "      <td>11290.5</td>\n",
       "    </tr>\n",
       "  </tbody>\n",
       "</table>\n",
       "</div>"
      ],
      "text/plain": [
       "                PCE\n",
       "DATE               \n",
       "2012-10-01  11137.4\n",
       "2012-11-01  11178.4\n",
       "2012-12-01  11181.2\n",
       "2013-01-01  11252.4\n",
       "2013-02-01  11290.5"
      ]
     },
     "execution_count": 6,
     "metadata": {},
     "output_type": "execute_result"
    }
   ],
   "source": [
    "import pandas as pd\n",
    "import pandas_datareader as pdr\n",
    "from datetime import datetime\n",
    "\n",
    "# Define the series code for Consumer Spending (PCE)\n",
    "series_code = 'PCE'\n",
    "\n",
    "# Define the start and end dates for the past 10 years\n",
    "# Define custom start date and end date\n",
    "start_date = '2012-09-30'\n",
    "end_date = datetime.today()\n",
    "\n",
    "# Retrieve data from FRED API\n",
    "consumer_spending = pdr.get_data_fred(series_code, start_date, end_date)\n",
    "\n",
    "consumer_spending.head()"
   ]
  },
  {
   "cell_type": "markdown",
   "metadata": {},
   "source": [
    "Fetches economic data from the FRED API for various indicators, resamples it to quarterly frequency, combines it into a single DataFrame, and then saves it to a CSV file."
   ]
  },
  {
   "cell_type": "code",
   "execution_count": 7,
   "metadata": {},
   "outputs": [],
   "source": [
    "import pandas_datareader as pdr\n",
    "from datetime import datetime\n",
    "\n",
    "# Define series codes and corresponding names\n",
    "economic_data = [\n",
    "    {'code': 'PCE', 'name': 'Consumer Spending'},\n",
    "    {'code': 'GDPC1', 'name': 'GDP Growth'},\n",
    "    {'code': 'CPIAUCNS', 'name': 'Inflation Rate'},\n",
    "    {'code': 'GS10', 'name': 'Interest Rates'},\n",
    "    {'code': 'UNRATE', 'name': 'Unemployment Rate'}\n",
    "]\n",
    "\n",
    "# Define the start and end dates for the past 10 years\n",
    "start_date = '2012-09-30'\n",
    "end_date = '2023-09-01'\n",
    "\n",
    "# Initialize an empty DataFrame\n",
    "combined_data = pd.DataFrame()\n",
    "\n",
    "# Loop through the economic data list\n",
    "for item in economic_data:\n",
    "    # Retrieve data from FRED API\n",
    "    data = pdr.get_data_fred(item['code'], start_date, end_date)\n",
    "    \n",
    "    # Resample data to quarterly frequency (taking the last value of each quarter)\n",
    "    data = data.resample('Q').last()\n",
    "    \n",
    "    # Rename columns to include the economic indicator name\n",
    "    data = data.rename(columns={'value': item['name']})\n",
    "    \n",
    "    # Merge data with existing combined_data DataFrame\n",
    "    combined_data = pd.concat([combined_data, data], axis=1)\n",
    "\n",
    "# Add the date column to the data\n",
    "combined_data['Date'] = combined_data.index\n",
    "\n",
    "combined_data.reset_index\n",
    "\n",
    "# Save the combined data to a CSV file\n",
    "combined_data.to_csv('economic_data_with_single_date_column_quarterly.csv', index=False)\n"
   ]
  },
  {
   "cell_type": "markdown",
   "metadata": {},
   "source": [
    "Display Date column from quarterly_data"
   ]
  },
  {
   "cell_type": "code",
   "execution_count": 8,
   "metadata": {},
   "outputs": [
    {
     "data": {
      "text/plain": [
       "0   2012-12-31 00:00:00-05:00\n",
       "1   2013-03-31 00:00:00-04:00\n",
       "2   2013-06-30 00:00:00-04:00\n",
       "3   2013-09-30 00:00:00-04:00\n",
       "4   2013-12-31 00:00:00-05:00\n",
       "Name: Date, dtype: datetime64[ns, America/New_York]"
      ]
     },
     "execution_count": 8,
     "metadata": {},
     "output_type": "execute_result"
    }
   ],
   "source": [
    "quarterly_data[\"Date\"].head()"
   ]
  },
  {
   "cell_type": "markdown",
   "metadata": {},
   "source": [
    "Using the apply method along with a lambda function to format the dates in the \"Date\" column of the quarterly_data DataFrame to a string format in the \"mm-dd-yyyy\" style."
   ]
  },
  {
   "cell_type": "code",
   "execution_count": 9,
   "metadata": {},
   "outputs": [],
   "source": [
    "quarterly_data['Date'] = quarterly_data['Date'].apply(lambda x: x.strftime(\"%m-%d-%Y\"))"
   ]
  },
  {
   "cell_type": "markdown",
   "metadata": {},
   "source": [
    "Display Date column from quarterly_data"
   ]
  },
  {
   "cell_type": "code",
   "execution_count": 10,
   "metadata": {},
   "outputs": [
    {
     "data": {
      "text/plain": [
       "0    12-31-2012\n",
       "1    03-31-2013\n",
       "2    06-30-2013\n",
       "3    09-30-2013\n",
       "4    12-31-2013\n",
       "Name: Date, dtype: object"
      ]
     },
     "execution_count": 10,
     "metadata": {},
     "output_type": "execute_result"
    }
   ],
   "source": [
    "quarterly_data[\"Date\"].head()"
   ]
  },
  {
   "cell_type": "markdown",
   "metadata": {},
   "source": [
    "Using the apply method along with a lambda function to format the dates in the \"Date\" column of the combined_data DataFrame to a string format in the \"mm-dd-yyyy\" style."
   ]
  },
  {
   "cell_type": "code",
   "execution_count": 11,
   "metadata": {},
   "outputs": [],
   "source": [
    "combined_data['Date'] = combined_data['Date'].apply(lambda x: x.strftime(\"%m-%d-%Y\"))"
   ]
  },
  {
   "cell_type": "markdown",
   "metadata": {},
   "source": [
    "Display first 5 rows for the dataset combined_data"
   ]
  },
  {
   "cell_type": "code",
   "execution_count": 12,
   "metadata": {},
   "outputs": [
    {
     "data": {
      "text/html": [
       "<div>\n",
       "<style scoped>\n",
       "    .dataframe tbody tr th:only-of-type {\n",
       "        vertical-align: middle;\n",
       "    }\n",
       "\n",
       "    .dataframe tbody tr th {\n",
       "        vertical-align: top;\n",
       "    }\n",
       "\n",
       "    .dataframe thead th {\n",
       "        text-align: right;\n",
       "    }\n",
       "</style>\n",
       "<table border=\"1\" class=\"dataframe\">\n",
       "  <thead>\n",
       "    <tr style=\"text-align: right;\">\n",
       "      <th></th>\n",
       "      <th>PCE</th>\n",
       "      <th>GDPC1</th>\n",
       "      <th>CPIAUCNS</th>\n",
       "      <th>GS10</th>\n",
       "      <th>UNRATE</th>\n",
       "      <th>Date</th>\n",
       "    </tr>\n",
       "    <tr>\n",
       "      <th>DATE</th>\n",
       "      <th></th>\n",
       "      <th></th>\n",
       "      <th></th>\n",
       "      <th></th>\n",
       "      <th></th>\n",
       "      <th></th>\n",
       "    </tr>\n",
       "  </thead>\n",
       "  <tbody>\n",
       "    <tr>\n",
       "      <th>2012-12-31</th>\n",
       "      <td>11181.2</td>\n",
       "      <td>17489.852</td>\n",
       "      <td>229.601</td>\n",
       "      <td>1.72</td>\n",
       "      <td>7.9</td>\n",
       "      <td>12-31-2012</td>\n",
       "    </tr>\n",
       "    <tr>\n",
       "      <th>2013-03-31</th>\n",
       "      <td>11290.1</td>\n",
       "      <td>17662.400</td>\n",
       "      <td>232.773</td>\n",
       "      <td>1.96</td>\n",
       "      <td>7.5</td>\n",
       "      <td>03-31-2013</td>\n",
       "    </tr>\n",
       "    <tr>\n",
       "      <th>2013-06-30</th>\n",
       "      <td>11344.4</td>\n",
       "      <td>17709.671</td>\n",
       "      <td>233.504</td>\n",
       "      <td>2.30</td>\n",
       "      <td>7.5</td>\n",
       "      <td>06-30-2013</td>\n",
       "    </tr>\n",
       "    <tr>\n",
       "      <th>2013-09-30</th>\n",
       "      <td>11445.9</td>\n",
       "      <td>17860.450</td>\n",
       "      <td>234.149</td>\n",
       "      <td>2.81</td>\n",
       "      <td>7.2</td>\n",
       "      <td>09-30-2013</td>\n",
       "    </tr>\n",
       "    <tr>\n",
       "      <th>2013-12-31</th>\n",
       "      <td>11593.2</td>\n",
       "      <td>18016.147</td>\n",
       "      <td>233.049</td>\n",
       "      <td>2.90</td>\n",
       "      <td>6.7</td>\n",
       "      <td>12-31-2013</td>\n",
       "    </tr>\n",
       "  </tbody>\n",
       "</table>\n",
       "</div>"
      ],
      "text/plain": [
       "                PCE      GDPC1  CPIAUCNS  GS10  UNRATE        Date\n",
       "DATE                                                              \n",
       "2012-12-31  11181.2  17489.852   229.601  1.72     7.9  12-31-2012\n",
       "2013-03-31  11290.1  17662.400   232.773  1.96     7.5  03-31-2013\n",
       "2013-06-30  11344.4  17709.671   233.504  2.30     7.5  06-30-2013\n",
       "2013-09-30  11445.9  17860.450   234.149  2.81     7.2  09-30-2013\n",
       "2013-12-31  11593.2  18016.147   233.049  2.90     6.7  12-31-2013"
      ]
     },
     "execution_count": 12,
     "metadata": {},
     "output_type": "execute_result"
    }
   ],
   "source": [
    "combined_data.head()"
   ]
  },
  {
   "cell_type": "markdown",
   "metadata": {},
   "source": [
    "Display first five rows for the dataset quarterly_data"
   ]
  },
  {
   "cell_type": "code",
   "execution_count": 13,
   "metadata": {},
   "outputs": [
    {
     "data": {
      "text/html": [
       "<div>\n",
       "<style scoped>\n",
       "    .dataframe tbody tr th:only-of-type {\n",
       "        vertical-align: middle;\n",
       "    }\n",
       "\n",
       "    .dataframe tbody tr th {\n",
       "        vertical-align: top;\n",
       "    }\n",
       "\n",
       "    .dataframe thead th {\n",
       "        text-align: right;\n",
       "    }\n",
       "</style>\n",
       "<table border=\"1\" class=\"dataframe\">\n",
       "  <thead>\n",
       "    <tr style=\"text-align: right;\">\n",
       "      <th></th>\n",
       "      <th>Date</th>\n",
       "      <th>Open</th>\n",
       "      <th>High</th>\n",
       "      <th>Low</th>\n",
       "      <th>Close</th>\n",
       "      <th>Volume</th>\n",
       "      <th>Dividends</th>\n",
       "      <th>Stock Splits</th>\n",
       "    </tr>\n",
       "  </thead>\n",
       "  <tbody>\n",
       "    <tr>\n",
       "      <th>0</th>\n",
       "      <td>12-31-2012</td>\n",
       "      <td>26.386014</td>\n",
       "      <td>27.862603</td>\n",
       "      <td>26.050749</td>\n",
       "      <td>27.620071</td>\n",
       "      <td>627696600</td>\n",
       "      <td>0.00</td>\n",
       "      <td>0.0</td>\n",
       "    </tr>\n",
       "    <tr>\n",
       "      <th>1</th>\n",
       "      <td>03-31-2013</td>\n",
       "      <td>27.455999</td>\n",
       "      <td>30.979839</td>\n",
       "      <td>27.427466</td>\n",
       "      <td>28.525991</td>\n",
       "      <td>894424000</td>\n",
       "      <td>0.28</td>\n",
       "      <td>0.0</td>\n",
       "    </tr>\n",
       "    <tr>\n",
       "      <th>2</th>\n",
       "      <td>06-30-2013</td>\n",
       "      <td>28.703747</td>\n",
       "      <td>29.982662</td>\n",
       "      <td>27.158989</td>\n",
       "      <td>27.432016</td>\n",
       "      <td>863530400</td>\n",
       "      <td>0.28</td>\n",
       "      <td>0.0</td>\n",
       "    </tr>\n",
       "    <tr>\n",
       "      <th>3</th>\n",
       "      <td>09-30-2013</td>\n",
       "      <td>27.686743</td>\n",
       "      <td>29.574969</td>\n",
       "      <td>26.644964</td>\n",
       "      <td>29.075781</td>\n",
       "      <td>947889200</td>\n",
       "      <td>0.56</td>\n",
       "      <td>0.0</td>\n",
       "    </tr>\n",
       "    <tr>\n",
       "      <th>4</th>\n",
       "      <td>12-31-2013</td>\n",
       "      <td>29.426354</td>\n",
       "      <td>30.372988</td>\n",
       "      <td>27.070778</td>\n",
       "      <td>28.032089</td>\n",
       "      <td>975777300</td>\n",
       "      <td>0.00</td>\n",
       "      <td>0.0</td>\n",
       "    </tr>\n",
       "  </tbody>\n",
       "</table>\n",
       "</div>"
      ],
      "text/plain": [
       "         Date       Open       High        Low      Close     Volume  \\\n",
       "0  12-31-2012  26.386014  27.862603  26.050749  27.620071  627696600   \n",
       "1  03-31-2013  27.455999  30.979839  27.427466  28.525991  894424000   \n",
       "2  06-30-2013  28.703747  29.982662  27.158989  27.432016  863530400   \n",
       "3  09-30-2013  27.686743  29.574969  26.644964  29.075781  947889200   \n",
       "4  12-31-2013  29.426354  30.372988  27.070778  28.032089  975777300   \n",
       "\n",
       "   Dividends  Stock Splits  \n",
       "0       0.00           0.0  \n",
       "1       0.28           0.0  \n",
       "2       0.28           0.0  \n",
       "3       0.56           0.0  \n",
       "4       0.00           0.0  "
      ]
     },
     "execution_count": 13,
     "metadata": {},
     "output_type": "execute_result"
    }
   ],
   "source": [
    "quarterly_data.head()"
   ]
  },
  {
   "cell_type": "markdown",
   "metadata": {},
   "source": [
    "merged two DataFrames (quarterly_data and combined_data) based on the \"Date\" column using an inner join."
   ]
  },
  {
   "cell_type": "code",
   "execution_count": 14,
   "metadata": {},
   "outputs": [
    {
     "data": {
      "text/html": [
       "<div>\n",
       "<style scoped>\n",
       "    .dataframe tbody tr th:only-of-type {\n",
       "        vertical-align: middle;\n",
       "    }\n",
       "\n",
       "    .dataframe tbody tr th {\n",
       "        vertical-align: top;\n",
       "    }\n",
       "\n",
       "    .dataframe thead th {\n",
       "        text-align: right;\n",
       "    }\n",
       "</style>\n",
       "<table border=\"1\" class=\"dataframe\">\n",
       "  <thead>\n",
       "    <tr style=\"text-align: right;\">\n",
       "      <th></th>\n",
       "      <th>Date</th>\n",
       "      <th>Open</th>\n",
       "      <th>High</th>\n",
       "      <th>Low</th>\n",
       "      <th>Close</th>\n",
       "      <th>Volume</th>\n",
       "      <th>Dividends</th>\n",
       "      <th>Stock Splits</th>\n",
       "      <th>PCE</th>\n",
       "      <th>GDPC1</th>\n",
       "      <th>CPIAUCNS</th>\n",
       "      <th>GS10</th>\n",
       "      <th>UNRATE</th>\n",
       "    </tr>\n",
       "  </thead>\n",
       "  <tbody>\n",
       "    <tr>\n",
       "      <th>0</th>\n",
       "      <td>12-31-2012</td>\n",
       "      <td>26.386014</td>\n",
       "      <td>27.862603</td>\n",
       "      <td>26.050749</td>\n",
       "      <td>27.620071</td>\n",
       "      <td>627696600</td>\n",
       "      <td>0.00</td>\n",
       "      <td>0.0</td>\n",
       "      <td>11181.2</td>\n",
       "      <td>17489.852</td>\n",
       "      <td>229.601</td>\n",
       "      <td>1.72</td>\n",
       "      <td>7.9</td>\n",
       "    </tr>\n",
       "    <tr>\n",
       "      <th>1</th>\n",
       "      <td>03-31-2013</td>\n",
       "      <td>27.455999</td>\n",
       "      <td>30.979839</td>\n",
       "      <td>27.427466</td>\n",
       "      <td>28.525991</td>\n",
       "      <td>894424000</td>\n",
       "      <td>0.28</td>\n",
       "      <td>0.0</td>\n",
       "      <td>11290.1</td>\n",
       "      <td>17662.400</td>\n",
       "      <td>232.773</td>\n",
       "      <td>1.96</td>\n",
       "      <td>7.5</td>\n",
       "    </tr>\n",
       "    <tr>\n",
       "      <th>2</th>\n",
       "      <td>06-30-2013</td>\n",
       "      <td>28.703747</td>\n",
       "      <td>29.982662</td>\n",
       "      <td>27.158989</td>\n",
       "      <td>27.432016</td>\n",
       "      <td>863530400</td>\n",
       "      <td>0.28</td>\n",
       "      <td>0.0</td>\n",
       "      <td>11344.4</td>\n",
       "      <td>17709.671</td>\n",
       "      <td>233.504</td>\n",
       "      <td>2.30</td>\n",
       "      <td>7.5</td>\n",
       "    </tr>\n",
       "    <tr>\n",
       "      <th>3</th>\n",
       "      <td>09-30-2013</td>\n",
       "      <td>27.686743</td>\n",
       "      <td>29.574969</td>\n",
       "      <td>26.644964</td>\n",
       "      <td>29.075781</td>\n",
       "      <td>947889200</td>\n",
       "      <td>0.56</td>\n",
       "      <td>0.0</td>\n",
       "      <td>11445.9</td>\n",
       "      <td>17860.450</td>\n",
       "      <td>234.149</td>\n",
       "      <td>2.81</td>\n",
       "      <td>7.2</td>\n",
       "    </tr>\n",
       "    <tr>\n",
       "      <th>4</th>\n",
       "      <td>12-31-2013</td>\n",
       "      <td>29.426354</td>\n",
       "      <td>30.372988</td>\n",
       "      <td>27.070778</td>\n",
       "      <td>28.032089</td>\n",
       "      <td>975777300</td>\n",
       "      <td>0.00</td>\n",
       "      <td>0.0</td>\n",
       "      <td>11593.2</td>\n",
       "      <td>18016.147</td>\n",
       "      <td>233.049</td>\n",
       "      <td>2.90</td>\n",
       "      <td>6.7</td>\n",
       "    </tr>\n",
       "  </tbody>\n",
       "</table>\n",
       "</div>"
      ],
      "text/plain": [
       "         Date       Open       High        Low      Close     Volume  \\\n",
       "0  12-31-2012  26.386014  27.862603  26.050749  27.620071  627696600   \n",
       "1  03-31-2013  27.455999  30.979839  27.427466  28.525991  894424000   \n",
       "2  06-30-2013  28.703747  29.982662  27.158989  27.432016  863530400   \n",
       "3  09-30-2013  27.686743  29.574969  26.644964  29.075781  947889200   \n",
       "4  12-31-2013  29.426354  30.372988  27.070778  28.032089  975777300   \n",
       "\n",
       "   Dividends  Stock Splits      PCE      GDPC1  CPIAUCNS  GS10  UNRATE  \n",
       "0       0.00           0.0  11181.2  17489.852   229.601  1.72     7.9  \n",
       "1       0.28           0.0  11290.1  17662.400   232.773  1.96     7.5  \n",
       "2       0.28           0.0  11344.4  17709.671   233.504  2.30     7.5  \n",
       "3       0.56           0.0  11445.9  17860.450   234.149  2.81     7.2  \n",
       "4       0.00           0.0  11593.2  18016.147   233.049  2.90     6.7  "
      ]
     },
     "execution_count": 14,
     "metadata": {},
     "output_type": "execute_result"
    }
   ],
   "source": [
    "merged_df = pd.merge(quarterly_data, combined_data, on=\"Date\", how=\"inner\")\n",
    "\n",
    "# Print the merged DataFrame\n",
    "merged_df.head()"
   ]
  },
  {
   "cell_type": "markdown",
   "metadata": {},
   "source": [
    "Dropping the following redundant columns from the merged_df"
   ]
  },
  {
   "cell_type": "code",
   "execution_count": 15,
   "metadata": {},
   "outputs": [],
   "source": [
    "merged_df = merged_df.drop(columns=['Open','High','Low','Volume','Dividends','Stock Splits'])"
   ]
  },
  {
   "cell_type": "markdown",
   "metadata": {},
   "source": [
    "Display first 5 rows of merged_df"
   ]
  },
  {
   "cell_type": "code",
   "execution_count": 16,
   "metadata": {},
   "outputs": [
    {
     "data": {
      "text/html": [
       "<div>\n",
       "<style scoped>\n",
       "    .dataframe tbody tr th:only-of-type {\n",
       "        vertical-align: middle;\n",
       "    }\n",
       "\n",
       "    .dataframe tbody tr th {\n",
       "        vertical-align: top;\n",
       "    }\n",
       "\n",
       "    .dataframe thead th {\n",
       "        text-align: right;\n",
       "    }\n",
       "</style>\n",
       "<table border=\"1\" class=\"dataframe\">\n",
       "  <thead>\n",
       "    <tr style=\"text-align: right;\">\n",
       "      <th></th>\n",
       "      <th>Date</th>\n",
       "      <th>Close</th>\n",
       "      <th>PCE</th>\n",
       "      <th>GDPC1</th>\n",
       "      <th>CPIAUCNS</th>\n",
       "      <th>GS10</th>\n",
       "      <th>UNRATE</th>\n",
       "    </tr>\n",
       "  </thead>\n",
       "  <tbody>\n",
       "    <tr>\n",
       "      <th>0</th>\n",
       "      <td>12-31-2012</td>\n",
       "      <td>27.620071</td>\n",
       "      <td>11181.2</td>\n",
       "      <td>17489.852</td>\n",
       "      <td>229.601</td>\n",
       "      <td>1.72</td>\n",
       "      <td>7.9</td>\n",
       "    </tr>\n",
       "    <tr>\n",
       "      <th>1</th>\n",
       "      <td>03-31-2013</td>\n",
       "      <td>28.525991</td>\n",
       "      <td>11290.1</td>\n",
       "      <td>17662.400</td>\n",
       "      <td>232.773</td>\n",
       "      <td>1.96</td>\n",
       "      <td>7.5</td>\n",
       "    </tr>\n",
       "    <tr>\n",
       "      <th>2</th>\n",
       "      <td>06-30-2013</td>\n",
       "      <td>27.432016</td>\n",
       "      <td>11344.4</td>\n",
       "      <td>17709.671</td>\n",
       "      <td>233.504</td>\n",
       "      <td>2.30</td>\n",
       "      <td>7.5</td>\n",
       "    </tr>\n",
       "    <tr>\n",
       "      <th>3</th>\n",
       "      <td>09-30-2013</td>\n",
       "      <td>29.075781</td>\n",
       "      <td>11445.9</td>\n",
       "      <td>17860.450</td>\n",
       "      <td>234.149</td>\n",
       "      <td>2.81</td>\n",
       "      <td>7.2</td>\n",
       "    </tr>\n",
       "    <tr>\n",
       "      <th>4</th>\n",
       "      <td>12-31-2013</td>\n",
       "      <td>28.032089</td>\n",
       "      <td>11593.2</td>\n",
       "      <td>18016.147</td>\n",
       "      <td>233.049</td>\n",
       "      <td>2.90</td>\n",
       "      <td>6.7</td>\n",
       "    </tr>\n",
       "  </tbody>\n",
       "</table>\n",
       "</div>"
      ],
      "text/plain": [
       "         Date      Close      PCE      GDPC1  CPIAUCNS  GS10  UNRATE\n",
       "0  12-31-2012  27.620071  11181.2  17489.852   229.601  1.72     7.9\n",
       "1  03-31-2013  28.525991  11290.1  17662.400   232.773  1.96     7.5\n",
       "2  06-30-2013  27.432016  11344.4  17709.671   233.504  2.30     7.5\n",
       "3  09-30-2013  29.075781  11445.9  17860.450   234.149  2.81     7.2\n",
       "4  12-31-2013  28.032089  11593.2  18016.147   233.049  2.90     6.7"
      ]
     },
     "execution_count": 16,
     "metadata": {},
     "output_type": "execute_result"
    }
   ],
   "source": [
    "merged_df.head()"
   ]
  },
  {
   "cell_type": "markdown",
   "metadata": {},
   "source": [
    "Export merged_df to csv file"
   ]
  },
  {
   "cell_type": "code",
   "execution_count": 17,
   "metadata": {},
   "outputs": [],
   "source": [
    "merged_df.to_csv(\"combined quarterly data for regression.csv\")"
   ]
  },
  {
   "cell_type": "markdown",
   "metadata": {},
   "source": [
    "building a Support Vector Regression (SVR) model to predict the 'Close' values based on the independent variables 'PCE', 'GDPC1', 'CPIAUCNS', 'GS10', and 'UNRATE'. "
   ]
  },
  {
   "cell_type": "code",
   "execution_count": 30,
   "metadata": {},
   "outputs": [
    {
     "name": "stdout",
     "output_type": "stream",
     "text": [
      "Mean Absolute Error (MAE): 3.3817975886369123\n",
      "Root Mean Squared Error (RMSE): 4.376125179007286\n"
     ]
    }
   ],
   "source": [
    "from sklearn.svm import SVR\n",
    "from sklearn.preprocessing import StandardScaler\n",
    "from sklearn.model_selection import train_test_split\n",
    "from sklearn.metrics import mean_absolute_error, mean_squared_error\n",
    "\n",
    "# Assuming 'df' is your DataFrame containing the data\n",
    "X = merged_df[['PCE', 'GDPC1', 'CPIAUCNS', 'GS10', 'UNRATE']]  # Independent variables\n",
    "y = merged_df['Close']  # Dependent variable\n",
    "\n",
    "# Standardize the data\n",
    "scaler = StandardScaler()\n",
    "X = scaler.fit_transform(X)\n",
    "\n",
    "# Split the data into training and testing sets\n",
    "X_train, X_test, y_train, y_test = train_test_split(X, y, test_size=0.2, random_state=42)\n",
    "\n",
    "# Initialize SVR model\n",
    "svr_model = SVR(kernel='rbf', C=3.0, epsilon=0.1)\n",
    "\n",
    "# Fit the model\n",
    "svr_model.fit(X_train, y_train)\n",
    "\n",
    "# Predict 'Close' values\n",
    "y_pred = svr_model.predict(X_test)\n",
    "\n",
    "# Calculate Mean Absolute Error (MAE) and Root Mean Squared Error (RMSE)\n",
    "mae = mean_absolute_error(y_test, y_pred)\n",
    "rmse = mean_squared_error(y_test, y_pred, squared=False)\n",
    "\n",
    "print(f\"Mean Absolute Error (MAE): {mae}\")\n",
    "print(f\"Root Mean Squared Error (RMSE): {rmse}\")\n"
   ]
  },
  {
   "cell_type": "markdown",
   "metadata": {},
   "source": [
    "The above metrics provide an indication of how well your model is performing. In this context:\n",
    "\n",
    "    MAE represents the average absolute difference between the predicted and actual 'Close' values. A lower MAE indicates better performance.\n",
    "\n",
    "    RMSE measures the square root of the average of the squared differences between predicted and actual 'Close' values. A lower RMSE also indicates better performance."
   ]
  },
  {
   "cell_type": "markdown",
   "metadata": {},
   "source": [
    "This code will generate a scatter plot comparing the actual 'Close' prices (y_test) with the predicted 'Close' prices (y_pred). "
   ]
  },
  {
   "cell_type": "code",
   "execution_count": 28,
   "metadata": {},
   "outputs": [
    {
     "data": {
      "image/png": "[encoded data removed]",
      "text/plain": [
       "<Figure size 800x600 with 1 Axes>"
      ]
     },
     "metadata": {},
     "output_type": "display_data"
    }
   ],
   "source": [
    "import matplotlib.pyplot as plt\n",
    "\n",
    "# Assuming 'y_test' contains actual 'Close' prices and 'y_pred' contains predicted 'Close' prices\n",
    "plt.figure(figsize=(8, 6))\n",
    "plt.scatter(y_test, y_pred, color='blue')\n",
    "plt.plot([min(y_test), max(y_test)], [min(y_test), max(y_test)], linestyle='--', color='red', linewidth=2)\n",
    "plt.xlabel('Actual Close Prices')\n",
    "plt.ylabel('Predicted Close Prices')\n",
    "plt.title('Actual vs. Predicted Close Prices')\n",
    "plt.grid(True)\n",
    "plt.show()\n"
   ]
  },
  {
   "cell_type": "markdown",
   "metadata": {},
   "source": [
    "The resulting plot shows a scatter of points representing actual vs. predicted 'Close' prices, and a diagonal dashed line representing perfect prediction. "
   ]
  },
  {
   "cell_type": "markdown",
   "metadata": {},
   "source": [
    "Pros:\n",
    "\n",
    "    1. Handles Non-Linearity: SVR is capable of modeling complex, non-linear relationships between the independent and dependent variables.\n",
    "\n",
    "    2. Effective in High-Dimensional Spaces: SVR can be effective even when the number of features is greater than the number of samples, making it suitable for high-dimensional data.\n",
    "\n",
    "    3. Robust to Outliers: SVR is less sensitive to outliers in the data compared to some other regression techniques.\n",
    "\n",
    "    4. Flexibility in Kernels: SVR allows the use of different kernel functions (e.g., linear, polynomial, radial basis function) to better capture underlying patterns in the data."
   ]
  },
  {
   "cell_type": "markdown",
   "metadata": {},
   "source": [
    "Cons:\n",
    "\n",
    "    1. Computationally Intensive: Training an SVR model can be computationally expensive, especially with large datasets. It may require more time and resources compared to simpler models.\n",
    "\n",
    "    2. Sensitive to Kernel Choice: The choice of kernel and associated hyperparameters can significantly impact model performance. It may require experimentation and tuning.\n",
    "\n",
    "    3. Limited Scalability: SVR may not be the best choice for very large datasets due to its computational demands.\n",
    "\n",
    "    4. Potential Overfitting: Without proper hyperparameter tuning, SVR can be prone to overfitting, especially if the kernel is too complex.\n",
    "\n",
    "    5. Requires Feature Scaling: SVR is sensitive to the scale of features. It's important to standardize or normalize the features before fitting the model."
   ]
  }
 ],
 "metadata": {
  "kernelspec": {
   "display_name": "MLforfinance",
   "language": "python",
   "name": "python3"
  },
  "language_info": {
   "codemirror_mode": {
    "name": "ipython",
    "version": 3
   },
   "file_extension": ".py",
   "mimetype": "text/x-python",
   "name": "python",
   "nbconvert_exporter": "python",
   "pygments_lexer": "ipython3",
   "version": "3.11.5"
  }
 },
 "nbformat": 4,
 "nbformat_minor": 2
}
