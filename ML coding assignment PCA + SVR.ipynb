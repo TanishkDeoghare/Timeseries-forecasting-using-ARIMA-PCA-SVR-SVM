{
 "cells": [
  {
   "cell_type": "markdown",
   "metadata": {},
   "source": [
    "This Model aims to predict the stock price of Coca Cola based on various economic and consumer dynamic factors by finding out the Principle components and using Support Vector Regression "
   ]
  },
  {
   "cell_type": "markdown",
   "metadata": {},
   "source": [
    "Data courtesy: Yahoo Finance and FRED (Federal Reserve Bank of St. Louis)"
   ]
  },
  {
   "cell_type": "markdown",
   "metadata": {},
   "source": [
    "Using the yfinance library to retrieve historical stock data for Coca-Cola (KO) and then resampling it to a quarterly frequency."
   ]
  },
  {
   "cell_type": "code",
   "execution_count": 2,
   "metadata": {},
   "outputs": [
    {
     "data": {
      "text/html": [
       "<div>\n",
       "<style scoped>\n",
       "    .dataframe tbody tr th:only-of-type {\n",
       "        vertical-align: middle;\n",
       "    }\n",
       "\n",
       "    .dataframe tbody tr th {\n",
       "        vertical-align: top;\n",
       "    }\n",
       "\n",
       "    .dataframe thead th {\n",
       "        text-align: right;\n",
       "    }\n",
       "</style>\n",
       "<table border=\"1\" class=\"dataframe\">\n",
       "  <thead>\n",
       "    <tr style=\"text-align: right;\">\n",
       "      <th></th>\n",
       "      <th>Date</th>\n",
       "      <th>Open</th>\n",
       "      <th>High</th>\n",
       "      <th>Low</th>\n",
       "      <th>Close</th>\n",
       "      <th>Volume</th>\n",
       "      <th>Dividends</th>\n",
       "      <th>Stock Splits</th>\n",
       "    </tr>\n",
       "  </thead>\n",
       "  <tbody>\n",
       "    <tr>\n",
       "      <th>0</th>\n",
       "      <td>2012-12-31 00:00:00-05:00</td>\n",
       "      <td>26.386014</td>\n",
       "      <td>27.862603</td>\n",
       "      <td>26.050749</td>\n",
       "      <td>27.620071</td>\n",
       "      <td>627696600</td>\n",
       "      <td>0.00</td>\n",
       "      <td>0.0</td>\n",
       "    </tr>\n",
       "    <tr>\n",
       "      <th>1</th>\n",
       "      <td>2013-03-31 00:00:00-04:00</td>\n",
       "      <td>27.455999</td>\n",
       "      <td>30.979839</td>\n",
       "      <td>27.427466</td>\n",
       "      <td>28.525991</td>\n",
       "      <td>894424000</td>\n",
       "      <td>0.28</td>\n",
       "      <td>0.0</td>\n",
       "    </tr>\n",
       "    <tr>\n",
       "      <th>2</th>\n",
       "      <td>2013-06-30 00:00:00-04:00</td>\n",
       "      <td>28.703749</td>\n",
       "      <td>29.982664</td>\n",
       "      <td>27.158991</td>\n",
       "      <td>27.432018</td>\n",
       "      <td>863530400</td>\n",
       "      <td>0.28</td>\n",
       "      <td>0.0</td>\n",
       "    </tr>\n",
       "    <tr>\n",
       "      <th>3</th>\n",
       "      <td>2013-09-30 00:00:00-04:00</td>\n",
       "      <td>27.686739</td>\n",
       "      <td>29.574965</td>\n",
       "      <td>26.644960</td>\n",
       "      <td>29.075777</td>\n",
       "      <td>947889200</td>\n",
       "      <td>0.56</td>\n",
       "      <td>0.0</td>\n",
       "    </tr>\n",
       "    <tr>\n",
       "      <th>4</th>\n",
       "      <td>2013-12-31 00:00:00-05:00</td>\n",
       "      <td>29.426350</td>\n",
       "      <td>30.372984</td>\n",
       "      <td>27.070775</td>\n",
       "      <td>28.032085</td>\n",
       "      <td>975777300</td>\n",
       "      <td>0.00</td>\n",
       "      <td>0.0</td>\n",
       "    </tr>\n",
       "  </tbody>\n",
       "</table>\n",
       "</div>"
      ],
      "text/plain": [
       "                       Date       Open       High        Low      Close  \\\n",
       "0 2012-12-31 00:00:00-05:00  26.386014  27.862603  26.050749  27.620071   \n",
       "1 2013-03-31 00:00:00-04:00  27.455999  30.979839  27.427466  28.525991   \n",
       "2 2013-06-30 00:00:00-04:00  28.703749  29.982664  27.158991  27.432018   \n",
       "3 2013-09-30 00:00:00-04:00  27.686739  29.574965  26.644960  29.075777   \n",
       "4 2013-12-31 00:00:00-05:00  29.426350  30.372984  27.070775  28.032085   \n",
       "\n",
       "      Volume  Dividends  Stock Splits  \n",
       "0  627696600       0.00           0.0  \n",
       "1  894424000       0.28           0.0  \n",
       "2  863530400       0.28           0.0  \n",
       "3  947889200       0.56           0.0  \n",
       "4  975777300       0.00           0.0  "
      ]
     },
     "execution_count": 2,
     "metadata": {},
     "output_type": "execute_result"
    }
   ],
   "source": [
    "import yfinance as yf\n",
    "from datetime import datetime\n",
    "\n",
    "# Define the stock symbol (KO for Coca-Cola)\n",
    "symbol = \"KO\"\n",
    "\n",
    "# Create a Ticker object for Coca-Cola\n",
    "ko = yf.Ticker(symbol)\n",
    "\n",
    "# Define custom start date and end date\n",
    "start_date = '2012-12-31'\n",
    "end_date = datetime.today()\n",
    "\n",
    "# Get daily data for the specified date range\n",
    "data = ko.history(start=start_date, end=end_date, interval=\"3mo\")\n",
    "\n",
    "# Resample to quarterly frequency (end of quarter)\n",
    "quarterly_data = data.resample('Q').last()\n",
    "\n",
    "# Reset the index to make the 'Date' column a regular column\n",
    "quarterly_data = quarterly_data.reset_index()\n",
    "\n",
    "# Print the DataFrame with the 'Date' column\n",
    "quarterly_data.head()\n"
   ]
  },
  {
   "cell_type": "markdown",
   "metadata": {},
   "source": [
    " it will display the first few rows of the quarterly_data DataFrame containing the quarterly stock data for Coca-Cola."
   ]
  },
  {
   "cell_type": "code",
   "execution_count": 3,
   "metadata": {},
   "outputs": [
    {
     "data": {
      "text/html": [
       "<div>\n",
       "<style scoped>\n",
       "    .dataframe tbody tr th:only-of-type {\n",
       "        vertical-align: middle;\n",
       "    }\n",
       "\n",
       "    .dataframe tbody tr th {\n",
       "        vertical-align: top;\n",
       "    }\n",
       "\n",
       "    .dataframe thead th {\n",
       "        text-align: right;\n",
       "    }\n",
       "</style>\n",
       "<table border=\"1\" class=\"dataframe\">\n",
       "  <thead>\n",
       "    <tr style=\"text-align: right;\">\n",
       "      <th></th>\n",
       "      <th>Date</th>\n",
       "      <th>Open</th>\n",
       "      <th>High</th>\n",
       "      <th>Low</th>\n",
       "      <th>Close</th>\n",
       "      <th>Volume</th>\n",
       "      <th>Dividends</th>\n",
       "      <th>Stock Splits</th>\n",
       "    </tr>\n",
       "  </thead>\n",
       "  <tbody>\n",
       "    <tr>\n",
       "      <th>0</th>\n",
       "      <td>2012-12-31 00:00:00-05:00</td>\n",
       "      <td>26.386014</td>\n",
       "      <td>27.862603</td>\n",
       "      <td>26.050749</td>\n",
       "      <td>27.620071</td>\n",
       "      <td>627696600</td>\n",
       "      <td>0.00</td>\n",
       "      <td>0.0</td>\n",
       "    </tr>\n",
       "    <tr>\n",
       "      <th>1</th>\n",
       "      <td>2013-03-31 00:00:00-04:00</td>\n",
       "      <td>27.455999</td>\n",
       "      <td>30.979839</td>\n",
       "      <td>27.427466</td>\n",
       "      <td>28.525991</td>\n",
       "      <td>894424000</td>\n",
       "      <td>0.28</td>\n",
       "      <td>0.0</td>\n",
       "    </tr>\n",
       "    <tr>\n",
       "      <th>2</th>\n",
       "      <td>2013-06-30 00:00:00-04:00</td>\n",
       "      <td>28.703749</td>\n",
       "      <td>29.982664</td>\n",
       "      <td>27.158991</td>\n",
       "      <td>27.432018</td>\n",
       "      <td>863530400</td>\n",
       "      <td>0.28</td>\n",
       "      <td>0.0</td>\n",
       "    </tr>\n",
       "    <tr>\n",
       "      <th>3</th>\n",
       "      <td>2013-09-30 00:00:00-04:00</td>\n",
       "      <td>27.686739</td>\n",
       "      <td>29.574965</td>\n",
       "      <td>26.644960</td>\n",
       "      <td>29.075777</td>\n",
       "      <td>947889200</td>\n",
       "      <td>0.56</td>\n",
       "      <td>0.0</td>\n",
       "    </tr>\n",
       "    <tr>\n",
       "      <th>4</th>\n",
       "      <td>2013-12-31 00:00:00-05:00</td>\n",
       "      <td>29.426350</td>\n",
       "      <td>30.372984</td>\n",
       "      <td>27.070775</td>\n",
       "      <td>28.032085</td>\n",
       "      <td>975777300</td>\n",
       "      <td>0.00</td>\n",
       "      <td>0.0</td>\n",
       "    </tr>\n",
       "  </tbody>\n",
       "</table>\n",
       "</div>"
      ],
      "text/plain": [
       "                       Date       Open       High        Low      Close  \\\n",
       "0 2012-12-31 00:00:00-05:00  26.386014  27.862603  26.050749  27.620071   \n",
       "1 2013-03-31 00:00:00-04:00  27.455999  30.979839  27.427466  28.525991   \n",
       "2 2013-06-30 00:00:00-04:00  28.703749  29.982664  27.158991  27.432018   \n",
       "3 2013-09-30 00:00:00-04:00  27.686739  29.574965  26.644960  29.075777   \n",
       "4 2013-12-31 00:00:00-05:00  29.426350  30.372984  27.070775  28.032085   \n",
       "\n",
       "      Volume  Dividends  Stock Splits  \n",
       "0  627696600       0.00           0.0  \n",
       "1  894424000       0.28           0.0  \n",
       "2  863530400       0.28           0.0  \n",
       "3  947889200       0.56           0.0  \n",
       "4  975777300       0.00           0.0  "
      ]
     },
     "execution_count": 3,
     "metadata": {},
     "output_type": "execute_result"
    }
   ],
   "source": [
    "quarterly_data.head()"
   ]
  },
  {
   "cell_type": "markdown",
   "metadata": {},
   "source": [
    "Using the to_csv method, you're exporting the quarterly_data DataFrame to a CSV file named coca_cola_time_series_data.csv"
   ]
  },
  {
   "cell_type": "code",
   "execution_count": 4,
   "metadata": {},
   "outputs": [],
   "source": [
    "# export data to csv file\n",
    "quarterly_data.to_csv('coca_cola_time_series_data.csv')"
   ]
  },
  {
   "cell_type": "markdown",
   "metadata": {},
   "source": [
    "This code snippet fetches data for Consumer Spending from the FRED API and stores it in the consumer_spending DataFrame. If you run this code, you'll see the first few rows of the data."
   ]
  },
  {
   "cell_type": "code",
   "execution_count": 5,
   "metadata": {},
   "outputs": [
    {
     "data": {
      "text/html": [
       "<div>\n",
       "<style scoped>\n",
       "    .dataframe tbody tr th:only-of-type {\n",
       "        vertical-align: middle;\n",
       "    }\n",
       "\n",
       "    .dataframe tbody tr th {\n",
       "        vertical-align: top;\n",
       "    }\n",
       "\n",
       "    .dataframe thead th {\n",
       "        text-align: right;\n",
       "    }\n",
       "</style>\n",
       "<table border=\"1\" class=\"dataframe\">\n",
       "  <thead>\n",
       "    <tr style=\"text-align: right;\">\n",
       "      <th></th>\n",
       "      <th>PCE</th>\n",
       "    </tr>\n",
       "    <tr>\n",
       "      <th>DATE</th>\n",
       "      <th></th>\n",
       "    </tr>\n",
       "  </thead>\n",
       "  <tbody>\n",
       "    <tr>\n",
       "      <th>2012-10-01</th>\n",
       "      <td>11137.4</td>\n",
       "    </tr>\n",
       "    <tr>\n",
       "      <th>2012-11-01</th>\n",
       "      <td>11178.4</td>\n",
       "    </tr>\n",
       "    <tr>\n",
       "      <th>2012-12-01</th>\n",
       "      <td>11181.2</td>\n",
       "    </tr>\n",
       "    <tr>\n",
       "      <th>2013-01-01</th>\n",
       "      <td>11252.4</td>\n",
       "    </tr>\n",
       "    <tr>\n",
       "      <th>2013-02-01</th>\n",
       "      <td>11290.5</td>\n",
       "    </tr>\n",
       "  </tbody>\n",
       "</table>\n",
       "</div>"
      ],
      "text/plain": [
       "                PCE\n",
       "DATE               \n",
       "2012-10-01  11137.4\n",
       "2012-11-01  11178.4\n",
       "2012-12-01  11181.2\n",
       "2013-01-01  11252.4\n",
       "2013-02-01  11290.5"
      ]
     },
     "execution_count": 5,
     "metadata": {},
     "output_type": "execute_result"
    }
   ],
   "source": [
    "import pandas as pd\n",
    "import pandas_datareader as pdr\n",
    "from datetime import datetime\n",
    "\n",
    "# Define the series code for Consumer Spending (PCE)\n",
    "series_code = 'PCE'\n",
    "\n",
    "# Define the start and end dates for the past 10 years\n",
    "# Define custom start date and end date\n",
    "start_date = '2012-09-30'\n",
    "end_date = datetime.today()\n",
    "\n",
    "# Retrieve data from FRED API\n",
    "consumer_spending = pdr.get_data_fred(series_code, start_date, end_date)\n",
    "\n",
    "consumer_spending.head()"
   ]
  },
  {
   "cell_type": "markdown",
   "metadata": {},
   "source": [
    "Fetches economic data from the FRED API for various indicators, resamples it to quarterly frequency, combines it into a single DataFrame, and then saves it to a CSV file."
   ]
  },
  {
   "cell_type": "code",
   "execution_count": 6,
   "metadata": {},
   "outputs": [],
   "source": [
    "import pandas_datareader as pdr\n",
    "from datetime import datetime\n",
    "\n",
    "# Define series codes and corresponding names\n",
    "economic_data = [\n",
    "    {'code': 'PCE', 'name': 'Consumer Spending'},\n",
    "    {'code': 'GDPC1', 'name': 'GDP Growth'},\n",
    "    {'code': 'CPIAUCNS', 'name': 'Inflation Rate'},\n",
    "    {'code': 'GS10', 'name': 'Interest Rates'},\n",
    "    {'code': 'UNRATE', 'name': 'Unemployment Rate'}\n",
    "]\n",
    "\n",
    "# Define the start and end dates for the past 10 years\n",
    "start_date = '2012-09-30'\n",
    "end_date = '2023-09-01'\n",
    "\n",
    "# Initialize an empty DataFrame\n",
    "combined_data = pd.DataFrame()\n",
    "\n",
    "# Loop through the economic data list\n",
    "for item in economic_data:\n",
    "    # Retrieve data from FRED API\n",
    "    data = pdr.get_data_fred(item['code'], start_date, end_date)\n",
    "    \n",
    "    # Resample data to quarterly frequency (taking the last value of each quarter)\n",
    "    data = data.resample('Q').last()\n",
    "    \n",
    "    # Rename columns to include the economic indicator name\n",
    "    data = data.rename(columns={'value': item['name']})\n",
    "    \n",
    "    # Merge data with existing combined_data DataFrame\n",
    "    combined_data = pd.concat([combined_data, data], axis=1)\n",
    "\n",
    "# Add the date column to the data\n",
    "combined_data['Date'] = combined_data.index\n",
    "\n",
    "combined_data.reset_index\n",
    "\n",
    "# Save the combined data to a CSV file\n",
    "combined_data.to_csv('economic_data_with_single_date_column_quarterly.csv', index=False)\n"
   ]
  },
  {
   "cell_type": "markdown",
   "metadata": {},
   "source": [
    "Display Date column from quarterly_data"
   ]
  },
  {
   "cell_type": "code",
   "execution_count": 7,
   "metadata": {},
   "outputs": [
    {
     "data": {
      "text/plain": [
       "0   2012-12-31 00:00:00-05:00\n",
       "1   2013-03-31 00:00:00-04:00\n",
       "2   2013-06-30 00:00:00-04:00\n",
       "3   2013-09-30 00:00:00-04:00\n",
       "4   2013-12-31 00:00:00-05:00\n",
       "Name: Date, dtype: datetime64[ns, America/New_York]"
      ]
     },
     "execution_count": 7,
     "metadata": {},
     "output_type": "execute_result"
    }
   ],
   "source": [
    "quarterly_data[\"Date\"].head()"
   ]
  },
  {
   "cell_type": "markdown",
   "metadata": {},
   "source": [
    "Using the apply method along with a lambda function to format the dates in the \"Date\" column of the quarterly_data DataFrame to a string format in the \"mm-dd-yyyy\" style."
   ]
  },
  {
   "cell_type": "code",
   "execution_count": 8,
   "metadata": {},
   "outputs": [],
   "source": [
    "quarterly_data['Date'] = quarterly_data['Date'].apply(lambda x: x.strftime(\"%m-%d-%Y\"))"
   ]
  },
  {
   "cell_type": "markdown",
   "metadata": {},
   "source": [
    "Display Date column from quarterly_data"
   ]
  },
  {
   "cell_type": "code",
   "execution_count": 9,
   "metadata": {},
   "outputs": [
    {
     "data": {
      "text/plain": [
       "0    12-31-2012\n",
       "1    03-31-2013\n",
       "2    06-30-2013\n",
       "3    09-30-2013\n",
       "4    12-31-2013\n",
       "Name: Date, dtype: object"
      ]
     },
     "execution_count": 9,
     "metadata": {},
     "output_type": "execute_result"
    }
   ],
   "source": [
    "quarterly_data[\"Date\"].head()"
   ]
  },
  {
   "cell_type": "markdown",
   "metadata": {},
   "source": [
    "Using the apply method along with a lambda function to format the dates in the \"Date\" column of the combined_data DataFrame to a string format in the \"mm-dd-yyyy\" style."
   ]
  },
  {
   "cell_type": "code",
   "execution_count": 10,
   "metadata": {},
   "outputs": [],
   "source": [
    "combined_data['Date'] = combined_data['Date'].apply(lambda x: x.strftime(\"%m-%d-%Y\"))"
   ]
  },
  {
   "cell_type": "markdown",
   "metadata": {},
   "source": [
    "Display first five rows of combined_data"
   ]
  },
  {
   "cell_type": "code",
   "execution_count": 11,
   "metadata": {},
   "outputs": [
    {
     "data": {
      "text/html": [
       "<div>\n",
       "<style scoped>\n",
       "    .dataframe tbody tr th:only-of-type {\n",
       "        vertical-align: middle;\n",
       "    }\n",
       "\n",
       "    .dataframe tbody tr th {\n",
       "        vertical-align: top;\n",
       "    }\n",
       "\n",
       "    .dataframe thead th {\n",
       "        text-align: right;\n",
       "    }\n",
       "</style>\n",
       "<table border=\"1\" class=\"dataframe\">\n",
       "  <thead>\n",
       "    <tr style=\"text-align: right;\">\n",
       "      <th></th>\n",
       "      <th>PCE</th>\n",
       "      <th>GDPC1</th>\n",
       "      <th>CPIAUCNS</th>\n",
       "      <th>GS10</th>\n",
       "      <th>UNRATE</th>\n",
       "      <th>Date</th>\n",
       "    </tr>\n",
       "    <tr>\n",
       "      <th>DATE</th>\n",
       "      <th></th>\n",
       "      <th></th>\n",
       "      <th></th>\n",
       "      <th></th>\n",
       "      <th></th>\n",
       "      <th></th>\n",
       "    </tr>\n",
       "  </thead>\n",
       "  <tbody>\n",
       "    <tr>\n",
       "      <th>2012-12-31</th>\n",
       "      <td>11181.2</td>\n",
       "      <td>17489.852</td>\n",
       "      <td>229.601</td>\n",
       "      <td>1.72</td>\n",
       "      <td>7.9</td>\n",
       "      <td>12-31-2012</td>\n",
       "    </tr>\n",
       "    <tr>\n",
       "      <th>2013-03-31</th>\n",
       "      <td>11290.1</td>\n",
       "      <td>17662.400</td>\n",
       "      <td>232.773</td>\n",
       "      <td>1.96</td>\n",
       "      <td>7.5</td>\n",
       "      <td>03-31-2013</td>\n",
       "    </tr>\n",
       "    <tr>\n",
       "      <th>2013-06-30</th>\n",
       "      <td>11344.4</td>\n",
       "      <td>17709.671</td>\n",
       "      <td>233.504</td>\n",
       "      <td>2.30</td>\n",
       "      <td>7.5</td>\n",
       "      <td>06-30-2013</td>\n",
       "    </tr>\n",
       "    <tr>\n",
       "      <th>2013-09-30</th>\n",
       "      <td>11445.9</td>\n",
       "      <td>17860.450</td>\n",
       "      <td>234.149</td>\n",
       "      <td>2.81</td>\n",
       "      <td>7.2</td>\n",
       "      <td>09-30-2013</td>\n",
       "    </tr>\n",
       "    <tr>\n",
       "      <th>2013-12-31</th>\n",
       "      <td>11593.2</td>\n",
       "      <td>18016.147</td>\n",
       "      <td>233.049</td>\n",
       "      <td>2.90</td>\n",
       "      <td>6.7</td>\n",
       "      <td>12-31-2013</td>\n",
       "    </tr>\n",
       "  </tbody>\n",
       "</table>\n",
       "</div>"
      ],
      "text/plain": [
       "                PCE      GDPC1  CPIAUCNS  GS10  UNRATE        Date\n",
       "DATE                                                              \n",
       "2012-12-31  11181.2  17489.852   229.601  1.72     7.9  12-31-2012\n",
       "2013-03-31  11290.1  17662.400   232.773  1.96     7.5  03-31-2013\n",
       "2013-06-30  11344.4  17709.671   233.504  2.30     7.5  06-30-2013\n",
       "2013-09-30  11445.9  17860.450   234.149  2.81     7.2  09-30-2013\n",
       "2013-12-31  11593.2  18016.147   233.049  2.90     6.7  12-31-2013"
      ]
     },
     "execution_count": 11,
     "metadata": {},
     "output_type": "execute_result"
    }
   ],
   "source": [
    "combined_data.head()"
   ]
  },
  {
   "cell_type": "markdown",
   "metadata": {},
   "source": [
    "Display first five rows of quarterly_data"
   ]
  },
  {
   "cell_type": "code",
   "execution_count": 12,
   "metadata": {},
   "outputs": [
    {
     "data": {
      "text/html": [
       "<div>\n",
       "<style scoped>\n",
       "    .dataframe tbody tr th:only-of-type {\n",
       "        vertical-align: middle;\n",
       "    }\n",
       "\n",
       "    .dataframe tbody tr th {\n",
       "        vertical-align: top;\n",
       "    }\n",
       "\n",
       "    .dataframe thead th {\n",
       "        text-align: right;\n",
       "    }\n",
       "</style>\n",
       "<table border=\"1\" class=\"dataframe\">\n",
       "  <thead>\n",
       "    <tr style=\"text-align: right;\">\n",
       "      <th></th>\n",
       "      <th>Date</th>\n",
       "      <th>Open</th>\n",
       "      <th>High</th>\n",
       "      <th>Low</th>\n",
       "      <th>Close</th>\n",
       "      <th>Volume</th>\n",
       "      <th>Dividends</th>\n",
       "      <th>Stock Splits</th>\n",
       "    </tr>\n",
       "  </thead>\n",
       "  <tbody>\n",
       "    <tr>\n",
       "      <th>0</th>\n",
       "      <td>12-31-2012</td>\n",
       "      <td>26.386014</td>\n",
       "      <td>27.862603</td>\n",
       "      <td>26.050749</td>\n",
       "      <td>27.620071</td>\n",
       "      <td>627696600</td>\n",
       "      <td>0.00</td>\n",
       "      <td>0.0</td>\n",
       "    </tr>\n",
       "    <tr>\n",
       "      <th>1</th>\n",
       "      <td>03-31-2013</td>\n",
       "      <td>27.455999</td>\n",
       "      <td>30.979839</td>\n",
       "      <td>27.427466</td>\n",
       "      <td>28.525991</td>\n",
       "      <td>894424000</td>\n",
       "      <td>0.28</td>\n",
       "      <td>0.0</td>\n",
       "    </tr>\n",
       "    <tr>\n",
       "      <th>2</th>\n",
       "      <td>06-30-2013</td>\n",
       "      <td>28.703749</td>\n",
       "      <td>29.982664</td>\n",
       "      <td>27.158991</td>\n",
       "      <td>27.432018</td>\n",
       "      <td>863530400</td>\n",
       "      <td>0.28</td>\n",
       "      <td>0.0</td>\n",
       "    </tr>\n",
       "    <tr>\n",
       "      <th>3</th>\n",
       "      <td>09-30-2013</td>\n",
       "      <td>27.686739</td>\n",
       "      <td>29.574965</td>\n",
       "      <td>26.644960</td>\n",
       "      <td>29.075777</td>\n",
       "      <td>947889200</td>\n",
       "      <td>0.56</td>\n",
       "      <td>0.0</td>\n",
       "    </tr>\n",
       "    <tr>\n",
       "      <th>4</th>\n",
       "      <td>12-31-2013</td>\n",
       "      <td>29.426350</td>\n",
       "      <td>30.372984</td>\n",
       "      <td>27.070775</td>\n",
       "      <td>28.032085</td>\n",
       "      <td>975777300</td>\n",
       "      <td>0.00</td>\n",
       "      <td>0.0</td>\n",
       "    </tr>\n",
       "  </tbody>\n",
       "</table>\n",
       "</div>"
      ],
      "text/plain": [
       "         Date       Open       High        Low      Close     Volume  \\\n",
       "0  12-31-2012  26.386014  27.862603  26.050749  27.620071  627696600   \n",
       "1  03-31-2013  27.455999  30.979839  27.427466  28.525991  894424000   \n",
       "2  06-30-2013  28.703749  29.982664  27.158991  27.432018  863530400   \n",
       "3  09-30-2013  27.686739  29.574965  26.644960  29.075777  947889200   \n",
       "4  12-31-2013  29.426350  30.372984  27.070775  28.032085  975777300   \n",
       "\n",
       "   Dividends  Stock Splits  \n",
       "0       0.00           0.0  \n",
       "1       0.28           0.0  \n",
       "2       0.28           0.0  \n",
       "3       0.56           0.0  \n",
       "4       0.00           0.0  "
      ]
     },
     "execution_count": 12,
     "metadata": {},
     "output_type": "execute_result"
    }
   ],
   "source": [
    "quarterly_data.head()"
   ]
  },
  {
   "cell_type": "markdown",
   "metadata": {},
   "source": [
    "merged two DataFrames (quarterly_data and combined_data) based on the \"Date\" column using an inner join."
   ]
  },
  {
   "cell_type": "code",
   "execution_count": 13,
   "metadata": {},
   "outputs": [
    {
     "data": {
      "text/html": [
       "<div>\n",
       "<style scoped>\n",
       "    .dataframe tbody tr th:only-of-type {\n",
       "        vertical-align: middle;\n",
       "    }\n",
       "\n",
       "    .dataframe tbody tr th {\n",
       "        vertical-align: top;\n",
       "    }\n",
       "\n",
       "    .dataframe thead th {\n",
       "        text-align: right;\n",
       "    }\n",
       "</style>\n",
       "<table border=\"1\" class=\"dataframe\">\n",
       "  <thead>\n",
       "    <tr style=\"text-align: right;\">\n",
       "      <th></th>\n",
       "      <th>Date</th>\n",
       "      <th>Open</th>\n",
       "      <th>High</th>\n",
       "      <th>Low</th>\n",
       "      <th>Close</th>\n",
       "      <th>Volume</th>\n",
       "      <th>Dividends</th>\n",
       "      <th>Stock Splits</th>\n",
       "      <th>PCE</th>\n",
       "      <th>GDPC1</th>\n",
       "      <th>CPIAUCNS</th>\n",
       "      <th>GS10</th>\n",
       "      <th>UNRATE</th>\n",
       "    </tr>\n",
       "  </thead>\n",
       "  <tbody>\n",
       "    <tr>\n",
       "      <th>0</th>\n",
       "      <td>12-31-2012</td>\n",
       "      <td>26.386014</td>\n",
       "      <td>27.862603</td>\n",
       "      <td>26.050749</td>\n",
       "      <td>27.620071</td>\n",
       "      <td>627696600</td>\n",
       "      <td>0.00</td>\n",
       "      <td>0.0</td>\n",
       "      <td>11181.2</td>\n",
       "      <td>17489.852</td>\n",
       "      <td>229.601</td>\n",
       "      <td>1.72</td>\n",
       "      <td>7.9</td>\n",
       "    </tr>\n",
       "    <tr>\n",
       "      <th>1</th>\n",
       "      <td>03-31-2013</td>\n",
       "      <td>27.455999</td>\n",
       "      <td>30.979839</td>\n",
       "      <td>27.427466</td>\n",
       "      <td>28.525991</td>\n",
       "      <td>894424000</td>\n",
       "      <td>0.28</td>\n",
       "      <td>0.0</td>\n",
       "      <td>11290.1</td>\n",
       "      <td>17662.400</td>\n",
       "      <td>232.773</td>\n",
       "      <td>1.96</td>\n",
       "      <td>7.5</td>\n",
       "    </tr>\n",
       "    <tr>\n",
       "      <th>2</th>\n",
       "      <td>06-30-2013</td>\n",
       "      <td>28.703749</td>\n",
       "      <td>29.982664</td>\n",
       "      <td>27.158991</td>\n",
       "      <td>27.432018</td>\n",
       "      <td>863530400</td>\n",
       "      <td>0.28</td>\n",
       "      <td>0.0</td>\n",
       "      <td>11344.4</td>\n",
       "      <td>17709.671</td>\n",
       "      <td>233.504</td>\n",
       "      <td>2.30</td>\n",
       "      <td>7.5</td>\n",
       "    </tr>\n",
       "    <tr>\n",
       "      <th>3</th>\n",
       "      <td>09-30-2013</td>\n",
       "      <td>27.686739</td>\n",
       "      <td>29.574965</td>\n",
       "      <td>26.644960</td>\n",
       "      <td>29.075777</td>\n",
       "      <td>947889200</td>\n",
       "      <td>0.56</td>\n",
       "      <td>0.0</td>\n",
       "      <td>11445.9</td>\n",
       "      <td>17860.450</td>\n",
       "      <td>234.149</td>\n",
       "      <td>2.81</td>\n",
       "      <td>7.2</td>\n",
       "    </tr>\n",
       "    <tr>\n",
       "      <th>4</th>\n",
       "      <td>12-31-2013</td>\n",
       "      <td>29.426350</td>\n",
       "      <td>30.372984</td>\n",
       "      <td>27.070775</td>\n",
       "      <td>28.032085</td>\n",
       "      <td>975777300</td>\n",
       "      <td>0.00</td>\n",
       "      <td>0.0</td>\n",
       "      <td>11593.2</td>\n",
       "      <td>18016.147</td>\n",
       "      <td>233.049</td>\n",
       "      <td>2.90</td>\n",
       "      <td>6.7</td>\n",
       "    </tr>\n",
       "  </tbody>\n",
       "</table>\n",
       "</div>"
      ],
      "text/plain": [
       "         Date       Open       High        Low      Close     Volume  \\\n",
       "0  12-31-2012  26.386014  27.862603  26.050749  27.620071  627696600   \n",
       "1  03-31-2013  27.455999  30.979839  27.427466  28.525991  894424000   \n",
       "2  06-30-2013  28.703749  29.982664  27.158991  27.432018  863530400   \n",
       "3  09-30-2013  27.686739  29.574965  26.644960  29.075777  947889200   \n",
       "4  12-31-2013  29.426350  30.372984  27.070775  28.032085  975777300   \n",
       "\n",
       "   Dividends  Stock Splits      PCE      GDPC1  CPIAUCNS  GS10  UNRATE  \n",
       "0       0.00           0.0  11181.2  17489.852   229.601  1.72     7.9  \n",
       "1       0.28           0.0  11290.1  17662.400   232.773  1.96     7.5  \n",
       "2       0.28           0.0  11344.4  17709.671   233.504  2.30     7.5  \n",
       "3       0.56           0.0  11445.9  17860.450   234.149  2.81     7.2  \n",
       "4       0.00           0.0  11593.2  18016.147   233.049  2.90     6.7  "
      ]
     },
     "execution_count": 13,
     "metadata": {},
     "output_type": "execute_result"
    }
   ],
   "source": [
    "merged_df = pd.merge(quarterly_data, combined_data, on=\"Date\", how=\"inner\")\n",
    "\n",
    "# Print the merged DataFrame\n",
    "merged_df.head()"
   ]
  },
  {
   "cell_type": "markdown",
   "metadata": {},
   "source": [
    "Dropping the following redundant columns from the merged_df"
   ]
  },
  {
   "cell_type": "code",
   "execution_count": 14,
   "metadata": {},
   "outputs": [],
   "source": [
    "merged_df = merged_df.drop(columns=['Open','High','Low','Volume','Dividends','Stock Splits'])"
   ]
  },
  {
   "cell_type": "markdown",
   "metadata": {},
   "source": [
    "Display the first five rows of merged_df"
   ]
  },
  {
   "cell_type": "code",
   "execution_count": 15,
   "metadata": {},
   "outputs": [
    {
     "data": {
      "text/html": [
       "<div>\n",
       "<style scoped>\n",
       "    .dataframe tbody tr th:only-of-type {\n",
       "        vertical-align: middle;\n",
       "    }\n",
       "\n",
       "    .dataframe tbody tr th {\n",
       "        vertical-align: top;\n",
       "    }\n",
       "\n",
       "    .dataframe thead th {\n",
       "        text-align: right;\n",
       "    }\n",
       "</style>\n",
       "<table border=\"1\" class=\"dataframe\">\n",
       "  <thead>\n",
       "    <tr style=\"text-align: right;\">\n",
       "      <th></th>\n",
       "      <th>Date</th>\n",
       "      <th>Close</th>\n",
       "      <th>PCE</th>\n",
       "      <th>GDPC1</th>\n",
       "      <th>CPIAUCNS</th>\n",
       "      <th>GS10</th>\n",
       "      <th>UNRATE</th>\n",
       "    </tr>\n",
       "  </thead>\n",
       "  <tbody>\n",
       "    <tr>\n",
       "      <th>0</th>\n",
       "      <td>12-31-2012</td>\n",
       "      <td>27.620071</td>\n",
       "      <td>11181.2</td>\n",
       "      <td>17489.852</td>\n",
       "      <td>229.601</td>\n",
       "      <td>1.72</td>\n",
       "      <td>7.9</td>\n",
       "    </tr>\n",
       "    <tr>\n",
       "      <th>1</th>\n",
       "      <td>03-31-2013</td>\n",
       "      <td>28.525991</td>\n",
       "      <td>11290.1</td>\n",
       "      <td>17662.400</td>\n",
       "      <td>232.773</td>\n",
       "      <td>1.96</td>\n",
       "      <td>7.5</td>\n",
       "    </tr>\n",
       "    <tr>\n",
       "      <th>2</th>\n",
       "      <td>06-30-2013</td>\n",
       "      <td>27.432018</td>\n",
       "      <td>11344.4</td>\n",
       "      <td>17709.671</td>\n",
       "      <td>233.504</td>\n",
       "      <td>2.30</td>\n",
       "      <td>7.5</td>\n",
       "    </tr>\n",
       "    <tr>\n",
       "      <th>3</th>\n",
       "      <td>09-30-2013</td>\n",
       "      <td>29.075777</td>\n",
       "      <td>11445.9</td>\n",
       "      <td>17860.450</td>\n",
       "      <td>234.149</td>\n",
       "      <td>2.81</td>\n",
       "      <td>7.2</td>\n",
       "    </tr>\n",
       "    <tr>\n",
       "      <th>4</th>\n",
       "      <td>12-31-2013</td>\n",
       "      <td>28.032085</td>\n",
       "      <td>11593.2</td>\n",
       "      <td>18016.147</td>\n",
       "      <td>233.049</td>\n",
       "      <td>2.90</td>\n",
       "      <td>6.7</td>\n",
       "    </tr>\n",
       "  </tbody>\n",
       "</table>\n",
       "</div>"
      ],
      "text/plain": [
       "         Date      Close      PCE      GDPC1  CPIAUCNS  GS10  UNRATE\n",
       "0  12-31-2012  27.620071  11181.2  17489.852   229.601  1.72     7.9\n",
       "1  03-31-2013  28.525991  11290.1  17662.400   232.773  1.96     7.5\n",
       "2  06-30-2013  27.432018  11344.4  17709.671   233.504  2.30     7.5\n",
       "3  09-30-2013  29.075777  11445.9  17860.450   234.149  2.81     7.2\n",
       "4  12-31-2013  28.032085  11593.2  18016.147   233.049  2.90     6.7"
      ]
     },
     "execution_count": 15,
     "metadata": {},
     "output_type": "execute_result"
    }
   ],
   "source": [
    "merged_df.head()"
   ]
  },
  {
   "cell_type": "markdown",
   "metadata": {},
   "source": [
    "Export merged_df to .csv file"
   ]
  },
  {
   "cell_type": "code",
   "execution_count": 16,
   "metadata": {},
   "outputs": [],
   "source": [
    "merged_df.to_csv(\"combined quarterly data for regression.csv\")"
   ]
  },
  {
   "cell_type": "markdown",
   "metadata": {},
   "source": [
    "This code performs Principal Component Analysis (PCA) on the standardized features ('PCE', 'GDPC1', 'CPIAUCNS', 'GS10', 'UNRATE') in the dataset. It then identifies the top contributing factors for the first and second principal components."
   ]
  },
  {
   "cell_type": "code",
   "execution_count": 17,
   "metadata": {},
   "outputs": [
    {
     "name": "stdout",
     "output_type": "stream",
     "text": [
      "Top contributing factor for PC1: PCE\n",
      "Top contributing factor for PC2: GS10\n"
     ]
    }
   ],
   "source": [
    "from sklearn.decomposition import PCA\n",
    "from sklearn.preprocessing import StandardScaler\n",
    "import numpy as np\n",
    "\n",
    "# Assuming 'df' is your DataFrame containing the data\n",
    "features = ['PCE', 'GDPC1', 'CPIAUCNS', 'GS10', 'UNRATE']\n",
    "X = merged_df[features]\n",
    "\n",
    "# Standardize the data\n",
    "scaler = StandardScaler()\n",
    "X_standardized = scaler.fit_transform(X)\n",
    "\n",
    "# Apply PCA\n",
    "pca = PCA(n_components=2)\n",
    "principal_components = pca.fit_transform(X_standardized)\n",
    "\n",
    "# Get loadings\n",
    "loadings = pca.components_.T * np.sqrt(pca.explained_variance_)\n",
    "\n",
    "# Identify top contributing factors for first and second principal components\n",
    "top_factors_pc1 = features[np.argmax(np.abs(loadings[:,0]))]\n",
    "top_factors_pc2 = features[np.argmax(np.abs(loadings[:,1]))]\n",
    "\n",
    "print(f\"Top contributing factor for PC1: {top_factors_pc1}\")\n",
    "print(f\"Top contributing factor for PC2: {top_factors_pc2}\")\n"
   ]
  },
  {
   "cell_type": "markdown",
   "metadata": {},
   "source": [
    "The above code helps to understand which original features have the highest contribution to the principal components, providing insights into the underlying patterns in the data. In this case PCE and GS10 are the highest contributing factors"
   ]
  },
  {
   "cell_type": "markdown",
   "metadata": {},
   "source": [
    "This code generates a scatter plot of the first two principal components, along with arrows indicating the variable loadings. "
   ]
  },
  {
   "cell_type": "code",
   "execution_count": 18,
   "metadata": {},
   "outputs": [
    {
     "data": {
      "image/png": "[encoded data removed]",
      "text/plain": [
       "<Figure size 800x600 with 1 Axes>"
      ]
     },
     "metadata": {},
     "output_type": "display_data"
    }
   ],
   "source": [
    "import matplotlib.pyplot as plt\n",
    "\n",
    "# Assuming 'principal_components' contains the transformed data\n",
    "plt.figure(figsize=(8, 6))\n",
    "plt.scatter(principal_components[:, 0], principal_components[:, 1], alpha=0.5)\n",
    "plt.xlabel('Principal Component 1')\n",
    "plt.ylabel('Principal Component 2')\n",
    "plt.title('PCA of Time Series Data')\n",
    "plt.grid(True)\n",
    "\n",
    "# Add arrows to indicate variable loadings\n",
    "for i, feature in enumerate(features):\n",
    "    plt.arrow(0, 0, loadings[i, 0]*2, loadings[i, 1]*2, color='r', alpha=0.8)\n",
    "    plt.text(loadings[i, 0]*2.5, loadings[i, 1]*2.5, feature, color='r')\n",
    "\n",
    "plt.show()\n"
   ]
  },
  {
   "cell_type": "markdown",
   "metadata": {},
   "source": [
    "The resulting plot will show a scatter of points representing the first two principal components. Arrows and labels indicate the variable loadings, providing insights into which original features contribute most to these components."
   ]
  },
  {
   "cell_type": "markdown",
   "metadata": {},
   "source": [
    "This code calculates and prints the explained variance for each principal component, as well as the cumulative explained variance."
   ]
  },
  {
   "cell_type": "code",
   "execution_count": 19,
   "metadata": {},
   "outputs": [
    {
     "name": "stdout",
     "output_type": "stream",
     "text": [
      "   Component  Explained Variance  Cumulative Variance\n",
      "0          1            0.694270             0.694270\n",
      "1          2            0.196239             0.890509\n"
     ]
    }
   ],
   "source": [
    "# Calculate explained variance for each component\n",
    "explained_variance = pca.explained_variance_ratio_\n",
    "\n",
    "# Calculate cumulative explained variance\n",
    "cumulative_variance = explained_variance.cumsum()\n",
    "\n",
    "# Create a DataFrame to display the results\n",
    "contribution_df = pd.DataFrame({\n",
    "    'Component': range(1, len(explained_variance) + 1),\n",
    "    'Explained Variance': explained_variance,\n",
    "    'Cumulative Variance': cumulative_variance\n",
    "})\n",
    "\n",
    "# Print the DataFrame\n",
    "print(contribution_df)\n"
   ]
  },
  {
   "cell_type": "markdown",
   "metadata": {},
   "source": [
    "By examining this DataFrame, you can gain insights into how much of the total variance is explained by each component and how much is accumulated as you consider more components. This information is valuable for deciding how many components to retain for further analysis.In this case it is two components PCE and GS10. Together they explain 89% variation in Close Price"
   ]
  },
  {
   "cell_type": "markdown",
   "metadata": {},
   "source": [
    "This code snippet is preparing the data for modeling by splitting it into training and testing sets. It assumes you are using the PCA components 'PCE' and 'GS10' as independent variables, and 'Close' prices as the dependent variable."
   ]
  },
  {
   "cell_type": "code",
   "execution_count": 20,
   "metadata": {},
   "outputs": [],
   "source": [
    "from sklearn.model_selection import train_test_split\n",
    "\n",
    "# Assuming df contains your data\n",
    "X = merged_df[['PCE', 'GS10']]  # Independent variables (PCA components)\n",
    "y = merged_df['Close']           # Dependent variable (Close prices)\n",
    "\n",
    "# Split the data into training and testing sets\n",
    "X_train, X_test, y_train, y_test = train_test_split(X, y, test_size=0.2, random_state=42)\n"
   ]
  },
  {
   "cell_type": "markdown",
   "metadata": {},
   "source": [
    "After executing the above code, you will have X_train, X_test, y_train, and y_test datasets ready for training and evaluating your model. The training set (X_train, y_train) will be used to train the model, while the testing set (X_test, y_test) will be used to evaluate its performance."
   ]
  },
  {
   "cell_type": "markdown",
   "metadata": {},
   "source": [
    "This code snippet is an example of using Support Vector Regression (SVR) to predict closing prices using PCA components. It also calculates the Mean Absolute Error (MAE) as an evaluation metric."
   ]
  },
  {
   "cell_type": "markdown",
   "metadata": {},
   "source": [
    "This code provides an example of how to train an SVR model on PCA components and evaluate its performance using MAE."
   ]
  },
  {
   "cell_type": "code",
   "execution_count": 28,
   "metadata": {},
   "outputs": [
    {
     "name": "stdout",
     "output_type": "stream",
     "text": [
      "Mean Absolute Error (MAE): 2.3392049028789894\n"
     ]
    }
   ],
   "source": [
    "from sklearn.svm import SVR\n",
    "from sklearn.metrics import mean_absolute_error\n",
    "\n",
    "# Assuming 'X_train', 'X_test', 'y_train', 'y_test' are your training and testing sets\n",
    "# 'X_train' and 'X_test' should contain PCA1 and PCA2 values\n",
    "\n",
    "# Initialize SVR model\n",
    "svr_model = SVR(kernel='poly', C=3.0, epsilon=0.1)\n",
    "\n",
    "# Fit the model\n",
    "svr_model.fit(X_train, y_train)\n",
    "\n",
    "# Predict closing prices\n",
    "y_pred = svr_model.predict(X_test)\n",
    "\n",
    "# Calculate Mean Absolute Error (MAE) as an example of evaluation metric\n",
    "mae = mean_absolute_error(y_test, y_pred)\n",
    "\n",
    "print(f\"Mean Absolute Error (MAE): {mae}\")\n"
   ]
  },
  {
   "cell_type": "markdown",
   "metadata": {},
   "source": [
    "This code generates a scatter plot comparing actual closing prices with predicted closing prices. It also includes a red dashed line representing a perfect one-to-one relationship between actual and predicted values."
   ]
  },
  {
   "cell_type": "code",
   "execution_count": 23,
   "metadata": {},
   "outputs": [
    {
     "data": {
      "image/png": "[encoded data removed]",
      "text/plain": [
       "<Figure size 800x600 with 1 Axes>"
      ]
     },
     "metadata": {},
     "output_type": "display_data"
    }
   ],
   "source": [
    "import matplotlib.pyplot as plt\n",
    "\n",
    "# Assuming 'y_test' contains actual closing prices and 'y_pred' contains predicted closing prices\n",
    "plt.figure(figsize=(8, 6))\n",
    "plt.scatter(y_test, y_pred, color='blue')\n",
    "plt.plot([min(y_test), max(y_test)], [min(y_test), max(y_test)], linestyle='--', color='red', linewidth=2)\n",
    "plt.xlabel('Actual Closing Prices')\n",
    "plt.ylabel('Predicted Closing Prices')\n",
    "plt.title('Actual vs. Predicted Closing Prices')\n",
    "plt.grid(True)\n",
    "plt.show()\n"
   ]
  },
  {
   "cell_type": "markdown",
   "metadata": {},
   "source": [
    "Using PCA (Principal Component Analysis) in combination with SVR (Support Vector Regression) has its advantages and disadvantages. Here are some pros and cons of this approach:\n",
    "\n",
    "Pros:\n",
    "\n",
    "    1. Dimensionality Reduction: PCA helps in reducing the dimensionality of the dataset by transforming the original features into a smaller set of uncorrelated components. This can lead to faster training times and less computational resources required for modeling.\n",
    "\n",
    "    2. Noise Reduction: PCA aims to capture the underlying structure of the data by identifying the directions with the highest variance. This can help in filtering out noisy features that may not contribute significantly to the prediction.\n",
    "\n",
    "    3. Interpretability: The principal components can be interpreted in terms of the original features. This allows for a clearer understanding of which features are contributing most to the variance in the data.\n",
    "\n",
    "    4. Improved Generalization: By reducing noise and irrelevant features, PCA can help improve the generalization of the model, potentially reducing overfitting."
   ]
  },
  {
   "cell_type": "markdown",
   "metadata": {},
   "source": [
    "Cons:\n",
    "\n",
    "    1. Information Loss: PCA involves projecting data onto a lower-dimensional space, which can result in a loss of information. If some of the lower variance components are actually important for the prediction, they may be discarded.\n",
    "\n",
    "    2. Assumption of Linearity: SVR with PCA assumes linear relationships between the transformed features and the target variable. If the underlying relationships are non-linear, this approach may not perform well.\n",
    "\n",
    "    3. Parameter Tuning: Choosing the right number of principal components and SVR hyperparameters can be challenging and may require extensive tuning.\n",
    "\n",
    "    4. Complexity of Implementation: Implementing PCA and SVR together can be more complex than using either technique individually. It requires careful handling of data preprocessing, parameter tuning, and model evaluation."
   ]
  },
  {
   "cell_type": "markdown",
   "metadata": {},
   "source": [
    "Considerations:\n",
    "\n",
    "    1. Data Characteristics: The effectiveness of PCA + SVR depends on the characteristics of the dataset. It may perform exceptionally well in scenarios where there are clear underlying patterns that can be captured by PCA.\n",
    "\n",
    "    2. Trade-off between Information Retention and Dimensionality Reduction: Balancing the amount of variance retained and the reduction in dimensionality is important. Too much reduction can lead to loss of critical information, while too little may not yield the desired benefits.\n",
    "\n",
    "    3. Model Complexity: The complexity of the underlying relationships in the data should be taken into account. If relationships are highly non-linear, other regression techniques or non-linear dimensionality reduction methods may be more appropriate.\n",
    "\n"
   ]
  }
 ],
 "metadata": {
  "kernelspec": {
   "display_name": "MLforfinance",
   "language": "python",
   "name": "python3"
  },
  "language_info": {
   "codemirror_mode": {
    "name": "ipython",
    "version": 3
   },
   "file_extension": ".py",
   "mimetype": "text/x-python",
   "name": "python",
   "nbconvert_exporter": "python",
   "pygments_lexer": "ipython3",
   "version": "3.11.5"
  }
 },
 "nbformat": 4,
 "nbformat_minor": 2
}
